{
 "cells": [
  {
   "cell_type": "code",
   "execution_count": 163,
   "id": "838c5dfe",
   "metadata": {},
   "outputs": [],
   "source": [
    "import numpy as np\n",
    "from mpl_toolkits.mplot3d import Axes3D\n",
    "from matplotlib import cm\n",
    "import matplotlib.pyplot as plt\n",
    "from deap import benchmarks\n",
    "import random\n",
    "from deap import creator, base, tools, algorithms\n",
    "import time"
   ]
  },
  {
   "cell_type": "code",
   "execution_count": 164,
   "id": "4770aeec",
   "metadata": {},
   "outputs": [],
   "source": [
    "def evaluate_MO(individual):\n",
    "    \n",
    "    pi=3.14159265359\n",
    "    x1=individual[0][0]\n",
    "    x2=individual[0][1]\n",
    "    g=(x1-0.5)*(x1-0.5)+(x2-0.5)*(x2-0.5)\n",
    "    cost_f1=(1+g)*np.cos(x1*pi/2)\n",
    "    cost_f2=(1+g)*np.sin(x1*pi/2)\n",
    "    \n",
    "    return (cost_f1,cost_f2)"
   ]
  },
  {
   "cell_type": "code",
   "execution_count": 165,
   "id": "6efe3775",
   "metadata": {},
   "outputs": [],
   "source": [
    "def gen():\n",
    "    \n",
    "    x1=random.random()\n",
    "    x2=random.random()\n",
    "        \n",
    "    return [x1,x2]"
   ]
  },
  {
   "cell_type": "code",
   "execution_count": 166,
   "id": "d3a834ee",
   "metadata": {},
   "outputs": [],
   "source": [
    "def mutation(individual):\n",
    "    size = len(individual)\n",
    "    \n",
    "    for i in range(size):\n",
    "        if random.random() < 0.1:\n",
    "            individual[i] = random.random()\n",
    "\n",
    "    return individual,"
   ]
  },
  {
   "cell_type": "code",
   "execution_count": 167,
   "id": "eda87228",
   "metadata": {},
   "outputs": [],
   "source": [
    "creator.create(\"FitnessMin\", base.Fitness, weights=(-1.0,-1.0))\n",
    "creator.create(\"Individual\", list, fitness=creator.FitnessMin)\n",
    "\n",
    "toolbox = base.Toolbox()\n",
    "\n",
    "toolbox.register(\"gen\", gen)\n",
    "\n",
    "toolbox.register(\"individual\", tools.initRepeat, creator.Individual, toolbox.gen, n=1)\n",
    "\n",
    "toolbox.register(\"population\", tools.initRepeat, list, toolbox.individual)\n",
    "\n",
    "\n",
    "\n",
    "toolbox.register(\"evaluate\", evaluate_MO)\n",
    "\n",
    "toolbox.register(\"mate\", tools.cxBlend,alpha=0.2)\n",
    "toolbox.register(\"mutate\", mutation)\n",
    "toolbox.register(\"select\", tools.selNSGA2, nd='standard')"
   ]
  },
  {
   "cell_type": "code",
   "execution_count": 168,
   "id": "3eff1860",
   "metadata": {},
   "outputs": [],
   "source": [
    "pop = toolbox.population(n=40)"
   ]
  },
  {
   "cell_type": "code",
   "execution_count": 169,
   "id": "bb421804",
   "metadata": {},
   "outputs": [],
   "source": [
    "start=time.process_time()\n",
    "\n",
    "CXPB, MUTPB, NGEN = 0.7, 0.4, 100\n",
    "\n",
    "# Evaluate the entire population\n",
    "fitnesses = map(toolbox.evaluate, pop)\n",
    "for ind, fit in zip(pop, fitnesses):\n",
    "    ind.fitness.values = fit\n",
    "\n",
    "mean_old=0\n",
    "\n",
    "stop_reason=False\n",
    "g=0\n",
    "\n",
    "while (g <NGEN) and (stop_reason==False):\n",
    "    # Select the next generation individuals\n",
    "    offspring = toolbox.select(pop, len(pop))\n",
    "    # Clone the selected individuals\n",
    "    offspring = list(map(toolbox.clone, offspring))\n",
    "\n",
    "    # Apply crossover and mutation on the offspring\n",
    "    \n",
    "    for child1, child2 in zip(offspring[::2], offspring[1::2]):\n",
    "        if random.random() < CXPB:\n",
    "            toolbox.mate(child1[0], child2[0])\n",
    "            \n",
    "            del child1.fitness.values\n",
    "            del child2.fitness.values\n",
    "\n",
    "    for mutant in offspring:\n",
    "        if random.random() < MUTPB:\n",
    "            toolbox.mutate(mutant[0])\n",
    "            del mutant.fitness.values\n",
    "\n",
    "    # Evaluate the individuals with an invalid fitness\n",
    "    invalid_ind = [ind for ind in offspring if not ind.fitness.valid]\n",
    "    fitnesses = map(toolbox.evaluate, invalid_ind)\n",
    "    for ind, fit in zip(invalid_ind, fitnesses):\n",
    "        ind.fitness.values = fit\n",
    "\n",
    "    # The population is entirely replaced by the offspring\n",
    "    pop[:] = offspring\n",
    "    \n",
    "    fits_1 = [ind.fitness.values[0] for ind in pop]\n",
    "    fits_2 = [ind.fitness.values[1] for ind in pop]\n",
    "        \n",
    "    length = len(pop)\n",
    "    mean_new_1 = sum(fits_1) / length\n",
    "    mean_new_2 = sum(fits_1) / length\n",
    "    #print( mean_new_1,'  ',mean_new_2)\n",
    "    \n",
    "    min_new=min(fits);\n",
    "    \n",
    "    g+=1\n",
    "\n",
    "finish=time.process_time()"
   ]
  },
  {
   "cell_type": "code",
   "execution_count": 170,
   "id": "db3068a2",
   "metadata": {},
   "outputs": [
    {
     "name": "stdout",
     "output_type": "stream",
     "text": [
      "0.59375\n"
     ]
    }
   ],
   "source": [
    "print(finish-start)"
   ]
  }
 ],
 "metadata": {
  "kernelspec": {
   "display_name": "Python 3 (ipykernel)",
   "language": "python",
   "name": "python3"
  },
  "language_info": {
   "codemirror_mode": {
    "name": "ipython",
    "version": 3
   },
   "file_extension": ".py",
   "mimetype": "text/x-python",
   "name": "python",
   "nbconvert_exporter": "python",
   "pygments_lexer": "ipython3",
   "version": "3.8.5"
  }
 },
 "nbformat": 4,
 "nbformat_minor": 5
}
