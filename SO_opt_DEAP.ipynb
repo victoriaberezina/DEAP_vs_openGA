{
 "cells": [
  {
   "cell_type": "code",
   "execution_count": 73,
   "id": "6af32a2c",
   "metadata": {},
   "outputs": [],
   "source": [
    "import numpy as np\n",
    "from mpl_toolkits.mplot3d import Axes3D\n",
    "from matplotlib import cm\n",
    "import matplotlib.pyplot as plt\n",
    "from deap import benchmarks\n",
    "import random"
   ]
  },
  {
   "cell_type": "code",
   "execution_count": 74,
   "id": "b60d79ab",
   "metadata": {},
   "outputs": [],
   "source": [
    "def evaluate_rasrigin(individual):\n",
    "    \n",
    "    pi=3.141592653589793238\n",
    "    \n",
    "    A=10*len(individual)\n",
    "    \n",
    "    for i in range(len(individual)):\n",
    "        \n",
    "        A+=individual[i]*individual[i]-10.0*np.cos(2.0*pi*individual[i])\n",
    "       \n",
    "        \n",
    "        \n",
    "    return [A]"
   ]
  },
  {
   "cell_type": "code",
   "execution_count": 75,
   "id": "0bdbfe0c",
   "metadata": {},
   "outputs": [],
   "source": [
    "def gen():\n",
    "    \n",
    "    A=5.12*2.0*(np.random.sample()-0.5)\n",
    "        \n",
    "    return A"
   ]
  },
  {
   "cell_type": "code",
   "execution_count": 76,
   "id": "07e7fca7",
   "metadata": {},
   "outputs": [],
   "source": [
    "from deap import creator, base, tools, algorithms"
   ]
  },
  {
   "cell_type": "code",
   "execution_count": 77,
   "id": "c4b8a580",
   "metadata": {},
   "outputs": [],
   "source": [
    "import time"
   ]
  },
  {
   "cell_type": "code",
   "execution_count": 78,
   "id": "9c18efc8",
   "metadata": {},
   "outputs": [],
   "source": [
    "creator.create(\"FitnessMin\", base.Fitness, weights=[-1.0])\n",
    "creator.create(\"Individual\", list, fitness=creator.FitnessMin)\n",
    "\n",
    "toolbox = base.Toolbox()\n",
    "\n",
    "toolbox.register(\"gen\", gen)\n",
    "\n",
    "toolbox.register(\"individual\", tools.initRepeat, creator.Individual, toolbox.gen, n=5)\n",
    "\n",
    "toolbox.register(\"population\", tools.initRepeat, list, toolbox.individual)\n",
    "\n",
    "\n",
    "\n",
    "toolbox.register(\"evaluate\", evaluate_rasrigin)\n",
    "\n",
    "toolbox.register(\"mate\", tools.cxBlend, alpha=0.2)\n",
    "toolbox.register(\"mutate\", tools.mutGaussian, mu=0, sigma=1, indpb=0.1)\n",
    "toolbox.register(\"select\", tools.selTournament, tournsize=3)\n"
   ]
  },
  {
   "cell_type": "code",
   "execution_count": 80,
   "id": "ecef561b",
   "metadata": {},
   "outputs": [],
   "source": [
    "start=time.process_time()\n",
    "\n",
    "pop = toolbox.population(n=1000)\n",
    "\n",
    "CXPB, MUTPB, NGEN = 0.7, 0.1, 150\n",
    "\n",
    "# Evaluate the entire population\n",
    "fitnesses = map(toolbox.evaluate, pop)\n",
    "for ind, fit in zip(pop, fitnesses):\n",
    "    ind.fitness.values = fit\n",
    "\n",
    "mean_old=0\n",
    "\n",
    "stop_reason=False\n",
    "g=0\n",
    "\n",
    "while (g <NGEN) and (stop_reason==False):\n",
    "    # Select the next generation individuals\n",
    "    offspring = toolbox.select(pop, len(pop))\n",
    "    # Clone the selected individuals\n",
    "    offspring = list(map(toolbox.clone, offspring))\n",
    "\n",
    "    # Apply crossover and mutation on the offspring\n",
    "    \n",
    "    for child1, child2 in zip(offspring[::2], offspring[1::2]):\n",
    "        if random.random() < CXPB:\n",
    "            toolbox.mate(child1, child2)\n",
    "            del child1.fitness.values\n",
    "            del child2.fitness.values\n",
    "\n",
    "    for mutant in offspring:\n",
    "        if random.random() < MUTPB:\n",
    "            toolbox.mutate(mutant)\n",
    "            del mutant.fitness.values\n",
    "\n",
    "    # Evaluate the individuals with an invalid fitness\n",
    "    invalid_ind = [ind for ind in offspring if not ind.fitness.valid]\n",
    "    fitnesses = map(toolbox.evaluate, invalid_ind)\n",
    "    for ind, fit in zip(invalid_ind, fitnesses):\n",
    "        ind.fitness.values = fit\n",
    "\n",
    "    # The population is entirely replaced by the offspring\n",
    "    pop[:] = offspring\n",
    "    \n",
    "    fits = [ind.fitness.values[0] for ind in pop]\n",
    "        \n",
    "    length = len(pop)\n",
    "    mean_new = sum(fits) / length\n",
    "    \n",
    "    min_new=min(fits);\n",
    "    \n",
    "    if mean_new==mean_old:\n",
    "        print('stop')\n",
    "        stop_reason=True\n",
    "        \n",
    "    mean_old=sum(fits) / length\n",
    "    g+=1\n",
    "\n",
    "finish=time.process_time()"
   ]
  },
  {
   "cell_type": "code",
   "execution_count": null,
   "id": "0a91a929",
   "metadata": {},
   "outputs": [],
   "source": []
  }
 ],
 "metadata": {
  "kernelspec": {
   "display_name": "Python 3 (ipykernel)",
   "language": "python",
   "name": "python3"
  },
  "language_info": {
   "codemirror_mode": {
    "name": "ipython",
    "version": 3
   },
   "file_extension": ".py",
   "mimetype": "text/x-python",
   "name": "python",
   "nbconvert_exporter": "python",
   "pygments_lexer": "ipython3",
   "version": "3.8.5"
  }
 },
 "nbformat": 4,
 "nbformat_minor": 5
}
